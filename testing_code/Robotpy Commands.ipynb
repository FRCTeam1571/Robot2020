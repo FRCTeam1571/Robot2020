{
 "cells": [
  {
   "cell_type": "code",
   "execution_count": 1,
   "metadata": {},
   "outputs": [
    {
     "name": "stdout",
     "output_type": "stream",
     "text": [
      "C:\\Users\\CalRo\\Documents\\GitHub\\Robot2020\\active_code\n"
     ]
    }
   ],
   "source": [
    "cd C:/Users/CalRo/Documents/GitHub/Robot2020/active_code/"
   ]
  },
  {
   "cell_type": "code",
   "execution_count": 23,
   "metadata": {},
   "outputs": [
    {
     "name": "stdout",
     "output_type": "stream",
     "text": [
      "C:\\Users\\CalRo\\Documents\\GitHub\\Robot2020\\testing_code\n"
     ]
    }
   ],
   "source": [
    "cd C:/Users/CalRo/Documents/GitHub/Robot2020/testing_code/"
   ]
  },
  {
   "cell_type": "code",
   "execution_count": 24,
   "metadata": {},
   "outputs": [
    {
     "data": {
      "text/plain": [
       "'c:\\\\users\\\\calro\\\\appdata\\\\local\\\\programs\\\\python\\\\python38\\\\python.exe'"
      ]
     },
     "execution_count": 24,
     "metadata": {},
     "output_type": "execute_result"
    }
   ],
   "source": [
    "import sys\n",
    "sys.executable"
   ]
  },
  {
   "cell_type": "code",
   "execution_count": 22,
   "metadata": {},
   "outputs": [
    {
     "name": "stdout",
     "output_type": "stream",
     "text": [
      "HAL Extensions: Attempting to load: halsim_gui\n",
      "Simulator GUI Initializing.\n",
      "windowScale = 1.250000e+00Simulator GUI Initialized!\n",
      "HAL Extensions: Successfully loaded extension\n",
      "Not loading CameraServerShared\n",
      "Default frc::IterativeRobotBase::RobotPeriodic() method... Override me!\n",
      "Disabled Mode\n"
     ]
    },
    {
     "name": "stderr",
     "output_type": "stream",
     "text": [
      "19:55:18:524 INFO    : wpilib              : WPILib version 2020.2.2.10\n",
      "19:55:18:525 INFO    : wpilib              : HAL version 2020.2.2.1\n",
      "19:55:18:525 INFO    : wpilib              : Running with simulated HAL.\n",
      "19:55:18:525 INFO    : halsim_gui          : WPILib HAL Simulation 2020.2.2.0\n",
      "19:55:24:719 INFO    : robotpy             : Robot code exited\n"
     ]
    }
   ],
   "source": [
    "import sys\n",
    "!{sys.executable} -m robot sim"
   ]
  },
  {
   "cell_type": "code",
   "execution_count": 27,
   "metadata": {},
   "outputs": [
    {
     "name": "stderr",
     "output_type": "stream",
     "text": [
      "UsageError: %%python is a cell magic, but the cell body is empty.\n"
     ]
    }
   ],
   "source": [
    "!python -m robot sim"
   ]
  },
  {
   "cell_type": "code",
   "execution_count": 3,
   "metadata": {},
   "outputs": [
    {
     "ename": "SyntaxError",
     "evalue": "invalid syntax (<ipython-input-3-ff3fa831821f>, line 1)",
     "output_type": "error",
     "traceback": [
      "\u001b[1;36m  File \u001b[1;32m\"<ipython-input-3-ff3fa831821f>\"\u001b[1;36m, line \u001b[1;32m1\u001b[0m\n\u001b[1;33m    py -3 -m robot deploy\u001b[0m\n\u001b[1;37m             ^\u001b[0m\n\u001b[1;31mSyntaxError\u001b[0m\u001b[1;31m:\u001b[0m invalid syntax\n"
     ]
    }
   ],
   "source": [
    "py -3 -m robot deploy"
   ]
  },
  {
   "cell_type": "code",
   "execution_count": null,
   "metadata": {},
   "outputs": [],
   "source": [
    "py -3 -m robot deploy --nc"
   ]
  },
  {
   "cell_type": "code",
   "execution_count": 1,
   "metadata": {},
   "outputs": [
    {
     "name": "stdout",
     "output_type": "stream",
     "text": [
      "Package                  Version    \n",
      "------------------------ -----------\n",
      "astroid                  2.3.3      \n",
      "atomicwrites             1.3.0      \n",
      "attrs                    19.3.0     \n",
      "backcall                 0.1.0      \n",
      "bcrypt                   3.1.7      \n",
      "bleach                   3.1.0      \n",
      "cffi                     1.14.0     \n",
      "colorama                 0.4.3      \n",
      "cryptography             2.8        \n",
      "decorator                4.4.1      \n",
      "defusedxml               0.6.0      \n",
      "entrypoints              0.3        \n",
      "header2whatever          0.4.1      \n",
      "ipykernel                5.1.4      \n",
      "ipython                  7.12.0     \n",
      "ipython-genutils         0.2.0      \n",
      "isort                    4.3.21     \n",
      "jedi                     0.16.0     \n",
      "Jinja2                   2.11.1     \n",
      "json5                    0.9.1      \n",
      "jsonschema               3.2.0      \n",
      "jupyter-client           5.3.4      \n",
      "jupyter-core             4.6.2      \n",
      "jupyterlab               1.2.6      \n",
      "jupyterlab-server        1.0.6      \n",
      "lazy-object-proxy        1.4.3      \n",
      "MarkupSafe               1.1.1      \n",
      "mccabe                   0.6.1      \n",
      "mistune                  0.8.4      \n",
      "more-itertools           8.2.0      \n",
      "nbconvert                5.6.1      \n",
      "nbformat                 5.0.4      \n",
      "notebook                 6.0.3      \n",
      "packaging                20.1       \n",
      "pandocfilters            1.4.2      \n",
      "paramiko                 2.7.1      \n",
      "parso                    0.6.1      \n",
      "pickleshare              0.7.5      \n",
      "Pint                     0.10.1     \n",
      "pip                      19.2.3     \n",
      "pluggy                   0.13.1     \n",
      "ply                      3.11       \n",
      "prometheus-client        0.7.1      \n",
      "prompt-toolkit           3.0.3      \n",
      "py                       1.8.1      \n",
      "pycparser                2.19       \n",
      "pydantic                 1.4        \n",
      "pyfrc                    2020.0.2   \n",
      "Pygments                 2.5.2      \n",
      "pylint                   2.4.4      \n",
      "PyNaCl                   1.3.0      \n",
      "pynetconsole             2.0.2      \n",
      "pynetworktables          2020.0.2   \n",
      "pyntcore                 2020.2.2.2 \n",
      "pyparsing                2.4.6      \n",
      "pyrsistent               0.15.7     \n",
      "pytest                   5.3.5      \n",
      "python-dateutil          2.8.1      \n",
      "pywin32                  227        \n",
      "pywinpty                 0.5.7      \n",
      "PyYAML                   5.3        \n",
      "pyzmq                    18.1.1     \n",
      "robotpy-build            2020.1.4   \n",
      "robotpy-commands-v1      2020.2.2.0 \n",
      "robotpy-cppheaderparser  5.0.2      \n",
      "robotpy-ctre             2020.2.0   \n",
      "robotpy-hal              2020.2.2.1 \n",
      "robotpy-halsim-gui       2020.2.2.0 \n",
      "robotpy-installer        2020.0.2   \n",
      "robotpy-rev-color        2020.1.0   \n",
      "robotpy-wpilib-utilities 2020.1.1   \n",
      "robotpy-wpiutil          2020.2.2.1 \n",
      "schematics               2.1.0      \n",
      "Send2Trash               1.5.0      \n",
      "setuptools               45.2.0     \n",
      "setuptools-scm           3.3.3      \n",
      "six                      1.14.0     \n",
      "sphinxify                0.5.2      \n",
      "style                    1.1.0      \n",
      "terminado                0.8.3      \n",
      "testpath                 0.4.4      \n",
      "toml                     0.10.0     \n",
      "toposort                 1.5        \n",
      "tornado                  6.0.3      \n",
      "traitlets                4.3.3      \n",
      "update                   0.0.1      \n",
      "wcwidth                  0.1.8      \n",
      "webencodings             0.5.1      \n",
      "wpilib                   2020.2.2.10\n",
      "wrapt                    1.11.2     \n",
      "Note: you may need to restart the kernel to use updated packages.\n"
     ]
    },
    {
     "name": "stderr",
     "output_type": "stream",
     "text": [
      "WARNING: You are using pip version 19.2.3, however version 20.0.2 is available.\n",
      "You should consider upgrading via the 'python -m pip install --upgrade pip' command.\n"
     ]
    }
   ],
   "source": [
    "pip list"
   ]
  },
  {
   "cell_type": "code",
   "execution_count": 2,
   "metadata": {},
   "outputs": [
    {
     "name": "stdout",
     "output_type": "stream",
     "text": [
      "Requirement already up-to-date: wpilib in c:\\users\\calro\\appdata\\local\\programs\\python\\python38\\lib\\site-packages (2020.2.2.10)\n",
      "Requirement already satisfied, skipping upgrade: robotpy-wpiutil<2021.0.0,>=2020.2.2.0 in c:\\users\\calro\\appdata\\local\\programs\\python\\python38\\lib\\site-packages (from wpilib) (2020.2.2.1)\n",
      "Requirement already satisfied, skipping upgrade: robotpy-hal<2021.0.0,>=2020.2.2.0 in c:\\users\\calro\\appdata\\local\\programs\\python\\python38\\lib\\site-packages (from wpilib) (2020.2.2.1)\n",
      "Requirement already satisfied, skipping upgrade: pyntcore<2021.0.0,>=2020.2.2.0 in c:\\users\\calro\\appdata\\local\\programs\\python\\python38\\lib\\site-packages (from wpilib) (2020.2.2.2)\n",
      "Requirement already satisfied, skipping upgrade: pynetworktables<2021.0.0,>=2020.0.0 in c:\\users\\calro\\appdata\\local\\programs\\python\\python38\\lib\\site-packages (from pyntcore<2021.0.0,>=2020.2.2.0->wpilib) (2020.0.2)\n",
      "Note: you may need to restart the kernel to use updated packages.\n"
     ]
    },
    {
     "name": "stderr",
     "output_type": "stream",
     "text": [
      "WARNING: You are using pip version 19.2.3, however version 20.0.2 is available.\n",
      "You should consider upgrading via the 'python -m pip install --upgrade pip' command.\n"
     ]
    }
   ],
   "source": [
    "pip install --upgrade wpilib"
   ]
  },
  {
   "cell_type": "code",
   "execution_count": 3,
   "metadata": {},
   "outputs": [
    {
     "name": "stdout",
     "output_type": "stream",
     "text": [
      "Requirement already up-to-date: pyfrc in c:\\users\\calro\\appdata\\local\\programs\\python\\python38\\lib\\site-packages (2020.0.2)\n",
      "Requirement already satisfied, skipping upgrade: robotpy-halsim-gui<2021.0.0,>=2020.2.2.0 in c:\\users\\calro\\appdata\\local\\programs\\python\\python38\\lib\\site-packages (from pyfrc) (2020.2.2.0)\n",
      "Requirement already satisfied, skipping upgrade: pint>=0.8 in c:\\users\\calro\\appdata\\local\\programs\\python\\python38\\lib\\site-packages (from pyfrc) (0.10.1)\n",
      "Requirement already satisfied, skipping upgrade: robotpy-installer<2021.0.0,>=2020.0.2 in c:\\users\\calro\\appdata\\local\\programs\\python\\python38\\lib\\site-packages (from pyfrc) (2020.0.2)\n",
      "Requirement already satisfied, skipping upgrade: pytest>=2.8.0 in c:\\users\\calro\\appdata\\local\\programs\\python\\python38\\lib\\site-packages (from pyfrc) (5.3.5)\n",
      "Requirement already satisfied, skipping upgrade: pynetconsole>=2.0.2 in c:\\users\\calro\\appdata\\local\\programs\\python\\python38\\lib\\site-packages (from pyfrc) (2.0.2)\n",
      "Requirement already satisfied, skipping upgrade: robotpy-wpilib-utilities<2021.0.0,>=2020.1.0 in c:\\users\\calro\\appdata\\local\\programs\\python\\python38\\lib\\site-packages (from pyfrc) (2020.1.1)\n",
      "Requirement already satisfied, skipping upgrade: wpilib<2021.0.0,>=2020.2.2.1 in c:\\users\\calro\\appdata\\local\\programs\\python\\python38\\lib\\site-packages (from pyfrc) (2020.2.2.10)\n",
      "Requirement already satisfied, skipping upgrade: robotpy-hal<2021.0.0,>=2020.2.2.0 in c:\\users\\calro\\appdata\\local\\programs\\python\\python38\\lib\\site-packages (from robotpy-halsim-gui<2021.0.0,>=2020.2.2.0->pyfrc) (2020.2.2.1)\n",
      "Requirement already satisfied, skipping upgrade: robotpy-wpiutil<2021.0.0,>=2020.2.2.0 in c:\\users\\calro\\appdata\\local\\programs\\python\\python38\\lib\\site-packages (from robotpy-halsim-gui<2021.0.0,>=2020.2.2.0->pyfrc) (2020.2.2.1)\n",
      "Requirement already satisfied, skipping upgrade: setuptools in c:\\users\\calro\\appdata\\local\\programs\\python\\python38\\lib\\site-packages (from pint>=0.8->pyfrc) (45.2.0)\n",
      "Requirement already satisfied, skipping upgrade: paramiko in c:\\users\\calro\\appdata\\local\\programs\\python\\python38\\lib\\site-packages (from robotpy-installer<2021.0.0,>=2020.0.2->pyfrc) (2.7.1)\n",
      "Requirement already satisfied, skipping upgrade: packaging in c:\\users\\calro\\appdata\\local\\programs\\python\\python38\\lib\\site-packages (from pytest>=2.8.0->pyfrc) (20.1)\n",
      "Requirement already satisfied, skipping upgrade: colorama; sys_platform == \"win32\" in c:\\users\\calro\\appdata\\local\\programs\\python\\python38\\lib\\site-packages (from pytest>=2.8.0->pyfrc) (0.4.3)\n",
      "Requirement already satisfied, skipping upgrade: atomicwrites>=1.0; sys_platform == \"win32\" in c:\\users\\calro\\appdata\\local\\programs\\python\\python38\\lib\\site-packages (from pytest>=2.8.0->pyfrc) (1.3.0)\n",
      "Requirement already satisfied, skipping upgrade: wcwidth in c:\\users\\calro\\appdata\\local\\programs\\python\\python38\\lib\\site-packages (from pytest>=2.8.0->pyfrc) (0.1.8)\n",
      "Requirement already satisfied, skipping upgrade: more-itertools>=4.0.0 in c:\\users\\calro\\appdata\\local\\programs\\python\\python38\\lib\\site-packages (from pytest>=2.8.0->pyfrc) (8.2.0)\n",
      "Requirement already satisfied, skipping upgrade: pluggy<1.0,>=0.12 in c:\\users\\calro\\appdata\\local\\programs\\python\\python38\\lib\\site-packages (from pytest>=2.8.0->pyfrc) (0.13.1)\n",
      "Requirement already satisfied, skipping upgrade: py>=1.5.0 in c:\\users\\calro\\appdata\\local\\programs\\python\\python38\\lib\\site-packages (from pytest>=2.8.0->pyfrc) (1.8.1)\n",
      "Requirement already satisfied, skipping upgrade: attrs>=17.4.0 in c:\\users\\calro\\appdata\\local\\programs\\python\\python38\\lib\\site-packages (from pytest>=2.8.0->pyfrc) (19.3.0)\n",
      "Requirement already satisfied, skipping upgrade: pynetworktables>=2020.0.0 in c:\\users\\calro\\appdata\\local\\programs\\python\\python38\\lib\\site-packages (from robotpy-wpilib-utilities<2021.0.0,>=2020.1.0->pyfrc) (2020.0.2)\n",
      "Requirement already satisfied, skipping upgrade: pyntcore<2021.0.0,>=2020.2.2.0 in c:\\users\\calro\\appdata\\local\\programs\\python\\python38\\lib\\site-packages (from wpilib<2021.0.0,>=2020.2.2.1->pyfrc) (2020.2.2.2)\n",
      "Requirement already satisfied, skipping upgrade: cryptography>=2.5 in c:\\users\\calro\\appdata\\local\\programs\\python\\python38\\lib\\site-packages (from paramiko->robotpy-installer<2021.0.0,>=2020.0.2->pyfrc) (2.8)\n",
      "Requirement already satisfied, skipping upgrade: pynacl>=1.0.1 in c:\\users\\calro\\appdata\\local\\programs\\python\\python38\\lib\\site-packages (from paramiko->robotpy-installer<2021.0.0,>=2020.0.2->pyfrc) (1.3.0)\n",
      "Requirement already satisfied, skipping upgrade: bcrypt>=3.1.3 in c:\\users\\calro\\appdata\\local\\programs\\python\\python38\\lib\\site-packages (from paramiko->robotpy-installer<2021.0.0,>=2020.0.2->pyfrc) (3.1.7)\n",
      "Requirement already satisfied, skipping upgrade: pyparsing>=2.0.2 in c:\\users\\calro\\appdata\\local\\programs\\python\\python38\\lib\\site-packages (from packaging->pytest>=2.8.0->pyfrc) (2.4.6)\n",
      "Requirement already satisfied, skipping upgrade: six in c:\\users\\calro\\appdata\\local\\programs\\python\\python38\\lib\\site-packages (from packaging->pytest>=2.8.0->pyfrc) (1.14.0)\n",
      "Requirement already satisfied, skipping upgrade: cffi!=1.11.3,>=1.8 in c:\\users\\calro\\appdata\\local\\programs\\python\\python38\\lib\\site-packages (from cryptography>=2.5->paramiko->robotpy-installer<2021.0.0,>=2020.0.2->pyfrc) (1.14.0)\n",
      "Requirement already satisfied, skipping upgrade: pycparser in c:\\users\\calro\\appdata\\local\\programs\\python\\python38\\lib\\site-packages (from cffi!=1.11.3,>=1.8->cryptography>=2.5->paramiko->robotpy-installer<2021.0.0,>=2020.0.2->pyfrc) (2.19)\n",
      "Note: you may need to restart the kernel to use updated packages.\n"
     ]
    },
    {
     "name": "stderr",
     "output_type": "stream",
     "text": [
      "WARNING: You are using pip version 19.2.3, however version 20.0.2 is available.\n",
      "You should consider upgrading via the 'python -m pip install --upgrade pip' command.\n"
     ]
    }
   ],
   "source": [
    "pip install --upgrade pyfrc"
   ]
  }
 ],
 "metadata": {
  "kernelspec": {
   "display_name": "Python 3",
   "language": "python",
   "name": "python3"
  },
  "language_info": {
   "codemirror_mode": {
    "name": "ipython",
    "version": 3
   },
   "file_extension": ".py",
   "mimetype": "text/x-python",
   "name": "python",
   "nbconvert_exporter": "python",
   "pygments_lexer": "ipython3",
   "version": "3.8.1"
  }
 },
 "nbformat": 4,
 "nbformat_minor": 4
}
